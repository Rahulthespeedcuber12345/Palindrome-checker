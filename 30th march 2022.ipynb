{
 "cells": [
  {
   "cell_type": "code",
   "execution_count": null,
   "id": "a649b8da",
   "metadata": {
    "scrolled": false
   },
   "outputs": [],
   "source": [
    "verify = input(\"please enter your word here -> \")\n",
    "startingindex = verify[0]\n",
    "endingindex = verify[-1]\n",
    "while startingindex == endingindex:\n",
    "    print(\"yes\")\n",
    "    break"
   ]
  },
  {
   "cell_type": "code",
   "execution_count": 3,
   "id": "9c4d7a27",
   "metadata": {},
   "outputs": [
    {
     "name": "stdout",
     "output_type": "stream",
     "text": [
      "museum\n",
      "m is equal to m\n",
      "u is equal to u\n"
     ]
    }
   ],
   "source": [
    "palindrome = input()\n",
    "firstindex = 0\n",
    "lastindex = len(palindrome) - 1\n",
    "firstcharacter = palindrome[firstindex]\n",
    "lastcharacter = palindrome[lastindex]\n",
    "\n",
    "#below code is to verify whether input is not a palindrome\n",
    "if firstcharacter != lastcharacter:\n",
    "        print(f\"{firstcharacter} is not equal to {lastcharacter}\")\n",
    "        print(f\"{palindrome} is not a palindrome\")\n",
    "        \n",
    "#below code is to verify whether input is a palindrome\n",
    "while firstcharacter == lastcharacter:\n",
    "    print(f\"{firstcharacter} is equal to {lastcharacter}\")\n",
    "    firstindex = firstindex + 1\n",
    "    lastindex = lastindex - 1\n",
    "    firstcharacter = palindrome[firstindex]\n",
    "    lastcharacter = palindrome[lastindex]\n",
    "    \n",
    "    if firstindex == lastindex:\n",
    "        print(f\"{firstcharacter} is equal to {lastcharacter}\")\n",
    "        print(\"this is a palindrome\")\n",
    "        break"
   ]
  },
  {
   "cell_type": "code",
   "execution_count": 17,
   "id": "5c9f21df",
   "metadata": {},
   "outputs": [
    {
     "name": "stdout",
     "output_type": "stream",
     "text": [
      "ma d am\n",
      "m is equal to m\n",
      "a is equal to a\n",
      "  is equal to  \n",
      "d is equal to d\n",
      "this is a palindrome\n"
     ]
    }
   ],
   "source": [
    "palindrome = input()\n",
    "firstindex = 0\n",
    "lastindex = len(palindrome) - 1\n",
    "firstcharacter = palindrome[firstindex]\n",
    "lastcharacter = palindrome[lastindex]\n",
    "        \n",
    "#below code is to verify whether input is a palindrome\n",
    "while firstcharacter == lastcharacter:\n",
    "    print(f\"{firstcharacter} is equal to {lastcharacter}\")\n",
    "    firstindex = firstindex + 1\n",
    "    lastindex = lastindex - 1\n",
    "    firstcharacter = palindrome[firstindex]\n",
    "    lastcharacter = palindrome[lastindex]\n",
    "    \n",
    "    if firstindex == lastindex:\n",
    "        print(f\"{firstcharacter} is equal to {lastcharacter}\")\n",
    "        print(\"this is a palindrome\")\n",
    "        break\n",
    "    \n",
    "    #below code is to verify whether input is not a palindrome\n",
    "if firstcharacter != lastcharacter:\n",
    "        print(f\"{firstcharacter} is not equal to {lastcharacter}\")\n",
    "        print(f\"{palindrome} is not a palindrome\")"
   ]
  },
  {
   "cell_type": "code",
   "execution_count": null,
   "id": "0e05cb80",
   "metadata": {},
   "outputs": [],
   "source": []
  }
 ],
 "metadata": {
  "kernelspec": {
   "display_name": "Python 3",
   "language": "python",
   "name": "python3"
  },
  "language_info": {
   "codemirror_mode": {
    "name": "ipython",
    "version": 3
   },
   "file_extension": ".py",
   "mimetype": "text/x-python",
   "name": "python",
   "nbconvert_exporter": "python",
   "pygments_lexer": "ipython3",
   "version": "3.8.8"
  }
 },
 "nbformat": 4,
 "nbformat_minor": 5
}
