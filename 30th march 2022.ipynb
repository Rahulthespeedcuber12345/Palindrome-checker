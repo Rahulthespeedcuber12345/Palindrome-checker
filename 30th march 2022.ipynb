{
 "cells": [
  {
   "cell_type": "code",
   "execution_count": 19,
   "id": "0e2b42ab",
   "metadata": {},
   "outputs": [
    {
     "name": "stdout",
     "output_type": "stream",
     "text": [
      "malayalam\n",
      "m is equal to m\n",
      "a is equal to a\n",
      "l is equal to l\n",
      "a is equal to a\n",
      "y is equal to y\n",
      "this is a palindrome\n"
     ]
    }
   ],
   "source": [
    "palindrome = input()\n",
    "firstindex = 0\n",
    "lastindex = len(palindrome) - 1\n",
    "firstcharacter = palindrome[firstindex]\n",
    "lastcharacter = palindrome[lastindex]\n",
    "        \n",
    "#below code is to verify whether input is a palindrome\n",
    "while firstcharacter == lastcharacter:\n",
    "    print(f\"{firstcharacter} is equal to {lastcharacter}\")\n",
    "    firstindex = firstindex + 1\n",
    "    lastindex = lastindex - 1\n",
    "    firstcharacter = palindrome[firstindex]\n",
    "    lastcharacter = palindrome[lastindex]\n",
    "    \n",
    "    if firstindex == lastindex:\n",
    "        print(f\"{firstcharacter} is equal to {lastcharacter}\")\n",
    "        print(\"this is a palindrome\")\n",
    "        break\n",
    "    \n",
    "    #below code is to verify whether input is not a palindrome\n",
    "if firstcharacter != lastcharacter:\n",
    "        print(f\"{firstcharacter} is not equal to {lastcharacter}\")\n",
    "        print(f\"{palindrome} is not a palindrome\")"
   ]
  },
  {
   "cell_type": "markdown",
   "id": "51829d9d",
   "metadata": {},
   "source": [
    "1)accept input\n",
    "2)function validate whether input is a palindrome"
   ]
  }
 ],
 "metadata": {
  "kernelspec": {
   "display_name": "Python 3",
   "language": "python",
   "name": "python3"
  },
  "language_info": {
   "codemirror_mode": {
    "name": "ipython",
    "version": 3
   },
   "file_extension": ".py",
   "mimetype": "text/x-python",
   "name": "python",
   "nbconvert_exporter": "python",
   "pygments_lexer": "ipython3",
   "version": "3.8.8"
  }
 },
 "nbformat": 4,
 "nbformat_minor": 5
}
